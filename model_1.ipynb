{
 "cells": [
  {
   "cell_type": "code",
   "execution_count": 7,
   "metadata": {},
   "outputs": [
    {
     "name": "stdout",
     "output_type": "stream",
     "text": [
      "The google.cloud.bigquery extension is already loaded. To reload it, use:\n",
      "  %reload_ext google.cloud.bigquery\n"
     ]
    }
   ],
   "source": [
    "# series and dataframes\n",
    "import numpy as np\n",
    "import pandas as pd\n",
    "# os \n",
    "import os\n",
    "# graphing\n",
    "from matplotlib import pyplot as plt\n",
    "import plotly.express as px\n",
    "from plotly.subplots import make_subplots\n",
    "import seaborn as sns\n",
    "import plotly.graph_objects as go\n",
    "import datetime as dt\n",
    "import numpy as np\n",
    "import pandas as pd\n",
    "import os\n",
    "from google_auth_oauthlib import flow\n",
    "%load_ext google.cloud.bigquery"
   ]
  },
  {
   "cell_type": "code",
   "execution_count": 2,
   "metadata": {},
   "outputs": [],
   "source": [
    "os.environ[\"GOOGLE_APPLICATION_CREDENTIALS\"] = \"/Users/geoff.parent/Desktop/coding_repo/credentials/mightyhive-data-science-poc-460f36144a00.json\""
   ]
  },
  {
   "cell_type": "code",
   "execution_count": 3,
   "metadata": {},
   "outputs": [
    {
     "name": "stderr",
     "output_type": "stream",
     "text": [
      "Query complete after 0.03s: 100%|██████████| 1/1 [00:00<00:00, 575.03query/s] \n",
      "Downloading: 100%|██████████| 225405/225405 [00:14<00:00, 15908.81rows/s]\n"
     ]
    }
   ],
   "source": [
    "%%bigquery df   \n",
    "SELECT  * FROM mightyhive-data-science-poc.001_namer_ds.010_consumer_sample"
   ]
  },
  {
   "cell_type": "code",
   "execution_count": 4,
   "metadata": {},
   "outputs": [
    {
     "data": {
      "text/html": [
       "<div>\n",
       "<style scoped>\n",
       "    .dataframe tbody tr th:only-of-type {\n",
       "        vertical-align: middle;\n",
       "    }\n",
       "\n",
       "    .dataframe tbody tr th {\n",
       "        vertical-align: top;\n",
       "    }\n",
       "\n",
       "    .dataframe thead th {\n",
       "        text-align: right;\n",
       "    }\n",
       "</style>\n",
       "<table border=\"1\" class=\"dataframe\">\n",
       "  <thead>\n",
       "    <tr style=\"text-align: right;\">\n",
       "      <th></th>\n",
       "      <th>CUSTNO</th>\n",
       "      <th>ZIP</th>\n",
       "      <th>ORDER_NO</th>\n",
       "      <th>PRODUCT_NO</th>\n",
       "      <th>PRODUCT_CATEGORY_ID</th>\n",
       "      <th>CHANNEL</th>\n",
       "      <th>OFFER_ID</th>\n",
       "      <th>ORDER_DATE</th>\n",
       "      <th>COST</th>\n",
       "      <th>REVENUE</th>\n",
       "      <th>PAY_METHOD</th>\n",
       "      <th>QUANTITY</th>\n",
       "      <th>RETN_REVENUE</th>\n",
       "    </tr>\n",
       "  </thead>\n",
       "  <tbody>\n",
       "    <tr>\n",
       "      <th>0</th>\n",
       "      <td>10066154044</td>\n",
       "      <td>22801</td>\n",
       "      <td>129920453</td>\n",
       "      <td>983040</td>\n",
       "      <td>P</td>\n",
       "      <td>ML</td>\n",
       "      <td>A08WNB</td>\n",
       "      <td>2008-01-18</td>\n",
       "      <td>49.99</td>\n",
       "      <td>99.95</td>\n",
       "      <td>PC</td>\n",
       "      <td>1</td>\n",
       "      <td>NaN</td>\n",
       "    </tr>\n",
       "    <tr>\n",
       "      <th>1</th>\n",
       "      <td>9999917113</td>\n",
       "      <td>97520</td>\n",
       "      <td>129895678</td>\n",
       "      <td>983296</td>\n",
       "      <td>T</td>\n",
       "      <td>ML</td>\n",
       "      <td>A06EHB</td>\n",
       "      <td>2006-12-09</td>\n",
       "      <td>84.00</td>\n",
       "      <td>159.90</td>\n",
       "      <td>PC</td>\n",
       "      <td>2</td>\n",
       "      <td>NaN</td>\n",
       "    </tr>\n",
       "    <tr>\n",
       "      <th>2</th>\n",
       "      <td>10040744514</td>\n",
       "      <td>78582</td>\n",
       "      <td>129888573</td>\n",
       "      <td>983296</td>\n",
       "      <td>T</td>\n",
       "      <td>ML</td>\n",
       "      <td>A06EHB</td>\n",
       "      <td>2006-09-27</td>\n",
       "      <td>42.00</td>\n",
       "      <td>79.95</td>\n",
       "      <td>PC</td>\n",
       "      <td>1</td>\n",
       "      <td>NaN</td>\n",
       "    </tr>\n",
       "    <tr>\n",
       "      <th>3</th>\n",
       "      <td>10061657050</td>\n",
       "      <td>11752</td>\n",
       "      <td>129899497</td>\n",
       "      <td>983296</td>\n",
       "      <td>T</td>\n",
       "      <td>ML</td>\n",
       "      <td>A06LCB</td>\n",
       "      <td>2007-03-06</td>\n",
       "      <td>42.00</td>\n",
       "      <td>79.95</td>\n",
       "      <td>PC</td>\n",
       "      <td>1</td>\n",
       "      <td>NaN</td>\n",
       "    </tr>\n",
       "    <tr>\n",
       "      <th>4</th>\n",
       "      <td>10076287792</td>\n",
       "      <td>80226</td>\n",
       "      <td>129950736</td>\n",
       "      <td>983296</td>\n",
       "      <td>T</td>\n",
       "      <td>ML</td>\n",
       "      <td>A09SPB</td>\n",
       "      <td>2009-02-24</td>\n",
       "      <td>42.00</td>\n",
       "      <td>39.95</td>\n",
       "      <td>MO</td>\n",
       "      <td>1</td>\n",
       "      <td>NaN</td>\n",
       "    </tr>\n",
       "  </tbody>\n",
       "</table>\n",
       "</div>"
      ],
      "text/plain": [
       "        CUSTNO    ZIP   ORDER_NO  PRODUCT_NO PRODUCT_CATEGORY_ID CHANNEL  \\\n",
       "0  10066154044  22801  129920453      983040                   P      ML   \n",
       "1   9999917113  97520  129895678      983296                   T      ML   \n",
       "2  10040744514  78582  129888573      983296                   T      ML   \n",
       "3  10061657050  11752  129899497      983296                   T      ML   \n",
       "4  10076287792  80226  129950736      983296                   T      ML   \n",
       "\n",
       "  OFFER_ID  ORDER_DATE   COST  REVENUE PAY_METHOD  QUANTITY  RETN_REVENUE  \n",
       "0   A08WNB  2008-01-18  49.99    99.95         PC         1           NaN  \n",
       "1   A06EHB  2006-12-09  84.00   159.90         PC         2           NaN  \n",
       "2   A06EHB  2006-09-27  42.00    79.95         PC         1           NaN  \n",
       "3   A06LCB  2007-03-06  42.00    79.95         PC         1           NaN  \n",
       "4   A09SPB  2009-02-24  42.00    39.95         MO         1           NaN  "
      ]
     },
     "execution_count": 4,
     "metadata": {},
     "output_type": "execute_result"
    }
   ],
   "source": [
    "df.head()"
   ]
  },
  {
   "cell_type": "code",
   "execution_count": 14,
   "metadata": {},
   "outputs": [],
   "source": [
    "modeldf = df.groupby(by=['ORDER_DATE']).agg({'REVENUE':sum,'QUANTITY':sum, 'CUSTNO':pd.Series.nunique })\n",
    "modeldf = modeldf.reset_index()\n",
    "modeldf['ORDER_DATE'] = pd.to_datetime(modeldf['ORDER_DATE'])\n",
    "modeldf['NOV'] = np.where(modeldf['ORDER_DATE'].dt.month == 11, 1, 0)\n",
    "modeldf['DEC'] = np.where(modeldf['ORDER_DATE'].dt.month == 12, 1, 0)\n",
    "\n",
    "channeldummies = df.groupby(by=['ORDER_DATE','CHANNEL']).agg({'REVENUE':sum,'QUANTITY':sum, 'CUSTNO':pd.Series.nunique })\n",
    "channeldummies = channeldummies.reset_index()\n",
    "channeldummies['ORDER_DATE'] = pd.to_datetime(channeldummies['ORDER_DATE'])\n",
    "tempdf = channeldummies[['ORDER_DATE','CHANNEL','CUSTNO']]"
   ]
  },
  {
   "cell_type": "code",
   "execution_count": 15,
   "metadata": {},
   "outputs": [
    {
     "data": {
      "text/html": [
       "<div>\n",
       "<style scoped>\n",
       "    .dataframe tbody tr th:only-of-type {\n",
       "        vertical-align: middle;\n",
       "    }\n",
       "\n",
       "    .dataframe tbody tr th {\n",
       "        vertical-align: top;\n",
       "    }\n",
       "\n",
       "    .dataframe thead th {\n",
       "        text-align: right;\n",
       "    }\n",
       "</style>\n",
       "<table border=\"1\" class=\"dataframe\">\n",
       "  <thead>\n",
       "    <tr style=\"text-align: right;\">\n",
       "      <th>CHANNEL</th>\n",
       "      <th>ORDER_DATE</th>\n",
       "      <th>ML</th>\n",
       "      <th>PH</th>\n",
       "      <th>WE</th>\n",
       "    </tr>\n",
       "  </thead>\n",
       "  <tbody>\n",
       "    <tr>\n",
       "      <th>0</th>\n",
       "      <td>2005-01-01</td>\n",
       "      <td>0.0</td>\n",
       "      <td>0.0</td>\n",
       "      <td>4.0</td>\n",
       "    </tr>\n",
       "    <tr>\n",
       "      <th>1</th>\n",
       "      <td>2005-01-02</td>\n",
       "      <td>0.0</td>\n",
       "      <td>3.0</td>\n",
       "      <td>10.0</td>\n",
       "    </tr>\n",
       "    <tr>\n",
       "      <th>2</th>\n",
       "      <td>2005-01-03</td>\n",
       "      <td>0.0</td>\n",
       "      <td>9.0</td>\n",
       "      <td>8.0</td>\n",
       "    </tr>\n",
       "    <tr>\n",
       "      <th>3</th>\n",
       "      <td>2005-01-04</td>\n",
       "      <td>0.0</td>\n",
       "      <td>7.0</td>\n",
       "      <td>10.0</td>\n",
       "    </tr>\n",
       "    <tr>\n",
       "      <th>4</th>\n",
       "      <td>2005-01-05</td>\n",
       "      <td>0.0</td>\n",
       "      <td>16.0</td>\n",
       "      <td>16.0</td>\n",
       "    </tr>\n",
       "  </tbody>\n",
       "</table>\n",
       "</div>"
      ],
      "text/plain": [
       "CHANNEL ORDER_DATE   ML    PH    WE\n",
       "0       2005-01-01  0.0   0.0   4.0\n",
       "1       2005-01-02  0.0   3.0  10.0\n",
       "2       2005-01-03  0.0   9.0   8.0\n",
       "3       2005-01-04  0.0   7.0  10.0\n",
       "4       2005-01-05  0.0  16.0  16.0"
      ]
     },
     "execution_count": 15,
     "metadata": {},
     "output_type": "execute_result"
    }
   ],
   "source": [
    "temp_pivtodf = tempdf.pivot(index='ORDER_DATE', columns='CHANNEL', values='CUSTNO')\n",
    "temp_pivtodf = temp_pivtodf.fillna(0)\n",
    "temp_pivtodf.head()\n",
    "temp_pivtodf = temp_pivtodf.reset_index()\n",
    "temp_pivtodf.head()"
   ]
  },
  {
   "cell_type": "code",
   "execution_count": 17,
   "metadata": {},
   "outputs": [],
   "source": [
    "modeldf = modeldf.join(temp_pivtodf.set_index('ORDER_DATE'), on='ORDER_DATE')"
   ]
  },
  {
   "cell_type": "markdown",
   "metadata": {},
   "source": [
    "### First Model"
   ]
  },
  {
   "cell_type": "code",
   "execution_count": 18,
   "metadata": {},
   "outputs": [
    {
     "data": {
      "text/html": [
       "<div>\n",
       "<style scoped>\n",
       "    .dataframe tbody tr th:only-of-type {\n",
       "        vertical-align: middle;\n",
       "    }\n",
       "\n",
       "    .dataframe tbody tr th {\n",
       "        vertical-align: top;\n",
       "    }\n",
       "\n",
       "    .dataframe thead th {\n",
       "        text-align: right;\n",
       "    }\n",
       "</style>\n",
       "<table border=\"1\" class=\"dataframe\">\n",
       "  <thead>\n",
       "    <tr style=\"text-align: right;\">\n",
       "      <th></th>\n",
       "      <th>REVENUE</th>\n",
       "      <th>QUANTITY</th>\n",
       "      <th>NOV</th>\n",
       "      <th>DEC</th>\n",
       "      <th>ML</th>\n",
       "      <th>PH</th>\n",
       "      <th>WE</th>\n",
       "    </tr>\n",
       "  </thead>\n",
       "  <tbody>\n",
       "    <tr>\n",
       "      <th>0</th>\n",
       "      <td>379.65</td>\n",
       "      <td>7</td>\n",
       "      <td>0</td>\n",
       "      <td>0</td>\n",
       "      <td>0.0</td>\n",
       "      <td>0.0</td>\n",
       "      <td>4.0</td>\n",
       "    </tr>\n",
       "    <tr>\n",
       "      <th>1</th>\n",
       "      <td>1429.35</td>\n",
       "      <td>13</td>\n",
       "      <td>0</td>\n",
       "      <td>0</td>\n",
       "      <td>0.0</td>\n",
       "      <td>3.0</td>\n",
       "      <td>10.0</td>\n",
       "    </tr>\n",
       "    <tr>\n",
       "      <th>2</th>\n",
       "      <td>1314.55</td>\n",
       "      <td>29</td>\n",
       "      <td>0</td>\n",
       "      <td>0</td>\n",
       "      <td>0.0</td>\n",
       "      <td>9.0</td>\n",
       "      <td>8.0</td>\n",
       "    </tr>\n",
       "    <tr>\n",
       "      <th>3</th>\n",
       "      <td>2570.80</td>\n",
       "      <td>24</td>\n",
       "      <td>0</td>\n",
       "      <td>0</td>\n",
       "      <td>0.0</td>\n",
       "      <td>7.0</td>\n",
       "      <td>10.0</td>\n",
       "    </tr>\n",
       "    <tr>\n",
       "      <th>4</th>\n",
       "      <td>5019.40</td>\n",
       "      <td>70</td>\n",
       "      <td>0</td>\n",
       "      <td>0</td>\n",
       "      <td>0.0</td>\n",
       "      <td>16.0</td>\n",
       "      <td>16.0</td>\n",
       "    </tr>\n",
       "  </tbody>\n",
       "</table>\n",
       "</div>"
      ],
      "text/plain": [
       "   REVENUE  QUANTITY  NOV  DEC   ML    PH    WE\n",
       "0   379.65         7    0    0  0.0   0.0   4.0\n",
       "1  1429.35        13    0    0  0.0   3.0  10.0\n",
       "2  1314.55        29    0    0  0.0   9.0   8.0\n",
       "3  2570.80        24    0    0  0.0   7.0  10.0\n",
       "4  5019.40        70    0    0  0.0  16.0  16.0"
      ]
     },
     "execution_count": 18,
     "metadata": {},
     "output_type": "execute_result"
    }
   ],
   "source": [
    "finalmodeldf = modeldf.drop(['ORDER_DATE','CUSTNO'], axis = 1)\n",
    "finalmodeldf.head()"
   ]
  },
  {
   "cell_type": "code",
   "execution_count": 20,
   "metadata": {},
   "outputs": [],
   "source": [
    "y = finalmodeldf['REVENUE']\n",
    "x = finalmodeldf[['QUANTITY', 'NOV', 'PH', 'WE']]"
   ]
  },
  {
   "cell_type": "code",
   "execution_count": 21,
   "metadata": {},
   "outputs": [
    {
     "data": {
      "text/html": [
       "<table class=\"simpletable\">\n",
       "<caption>OLS Regression Results</caption>\n",
       "<tr>\n",
       "  <th>Dep. Variable:</th>         <td>REVENUE</td>     <th>  R-squared:         </th> <td>   0.966</td> \n",
       "</tr>\n",
       "<tr>\n",
       "  <th>Model:</th>                   <td>OLS</td>       <th>  Adj. R-squared:    </th> <td>   0.966</td> \n",
       "</tr>\n",
       "<tr>\n",
       "  <th>Method:</th>             <td>Least Squares</td>  <th>  F-statistic:       </th> <td>1.990e+04</td>\n",
       "</tr>\n",
       "<tr>\n",
       "  <th>Date:</th>             <td>Mon, 26 Jul 2021</td> <th>  Prob (F-statistic):</th>  <td>  0.00</td>  \n",
       "</tr>\n",
       "<tr>\n",
       "  <th>Time:</th>                 <td>17:25:14</td>     <th>  Log-Likelihood:    </th> <td> -24286.</td> \n",
       "</tr>\n",
       "<tr>\n",
       "  <th>No. Observations:</th>      <td>  2815</td>      <th>  AIC:               </th> <td>4.858e+04</td>\n",
       "</tr>\n",
       "<tr>\n",
       "  <th>Df Residuals:</th>          <td>  2810</td>      <th>  BIC:               </th> <td>4.861e+04</td>\n",
       "</tr>\n",
       "<tr>\n",
       "  <th>Df Model:</th>              <td>     4</td>      <th>                     </th>     <td> </td>    \n",
       "</tr>\n",
       "<tr>\n",
       "  <th>Covariance Type:</th>      <td>nonrobust</td>    <th>                     </th>     <td> </td>    \n",
       "</tr>\n",
       "</table>\n",
       "<table class=\"simpletable\">\n",
       "<tr>\n",
       "      <td></td>        <th>coef</th>     <th>std err</th>      <th>t</th>      <th>P>|t|</th>  <th>[0.025</th>    <th>0.975]</th>  \n",
       "</tr>\n",
       "<tr>\n",
       "  <th>const</th>    <td>  607.1146</td> <td>   35.425</td> <td>   17.138</td> <td> 0.000</td> <td>  537.652</td> <td>  676.577</td>\n",
       "</tr>\n",
       "<tr>\n",
       "  <th>QUANTITY</th> <td>   65.7601</td> <td>    1.868</td> <td>   35.207</td> <td> 0.000</td> <td>   62.098</td> <td>   69.423</td>\n",
       "</tr>\n",
       "<tr>\n",
       "  <th>NOV</th>      <td>  369.0765</td> <td>  107.829</td> <td>    3.423</td> <td> 0.001</td> <td>  157.645</td> <td>  580.508</td>\n",
       "</tr>\n",
       "<tr>\n",
       "  <th>PH</th>       <td>   19.0756</td> <td>    4.344</td> <td>    4.391</td> <td> 0.000</td> <td>   10.558</td> <td>   27.593</td>\n",
       "</tr>\n",
       "<tr>\n",
       "  <th>WE</th>       <td>   10.2445</td> <td>    3.800</td> <td>    2.696</td> <td> 0.007</td> <td>    2.793</td> <td>   17.696</td>\n",
       "</tr>\n",
       "</table>\n",
       "<table class=\"simpletable\">\n",
       "<tr>\n",
       "  <th>Omnibus:</th>       <td>3271.415</td> <th>  Durbin-Watson:     </th>  <td>   1.749</td>  \n",
       "</tr>\n",
       "<tr>\n",
       "  <th>Prob(Omnibus):</th>  <td> 0.000</td>  <th>  Jarque-Bera (JB):  </th> <td>1298718.279</td>\n",
       "</tr>\n",
       "<tr>\n",
       "  <th>Skew:</th>           <td> 5.465</td>  <th>  Prob(JB):          </th>  <td>    0.00</td>  \n",
       "</tr>\n",
       "<tr>\n",
       "  <th>Kurtosis:</th>       <td>107.657</td> <th>  Cond. No.          </th>  <td>    583.</td>  \n",
       "</tr>\n",
       "</table><br/><br/>Notes:<br/>[1] Standard Errors assume that the covariance matrix of the errors is correctly specified."
      ],
      "text/plain": [
       "<class 'statsmodels.iolib.summary.Summary'>\n",
       "\"\"\"\n",
       "                            OLS Regression Results                            \n",
       "==============================================================================\n",
       "Dep. Variable:                REVENUE   R-squared:                       0.966\n",
       "Model:                            OLS   Adj. R-squared:                  0.966\n",
       "Method:                 Least Squares   F-statistic:                 1.990e+04\n",
       "Date:                Mon, 26 Jul 2021   Prob (F-statistic):               0.00\n",
       "Time:                        17:25:14   Log-Likelihood:                -24286.\n",
       "No. Observations:                2815   AIC:                         4.858e+04\n",
       "Df Residuals:                    2810   BIC:                         4.861e+04\n",
       "Df Model:                           4                                         \n",
       "Covariance Type:            nonrobust                                         \n",
       "==============================================================================\n",
       "                 coef    std err          t      P>|t|      [0.025      0.975]\n",
       "------------------------------------------------------------------------------\n",
       "const        607.1146     35.425     17.138      0.000     537.652     676.577\n",
       "QUANTITY      65.7601      1.868     35.207      0.000      62.098      69.423\n",
       "NOV          369.0765    107.829      3.423      0.001     157.645     580.508\n",
       "PH            19.0756      4.344      4.391      0.000      10.558      27.593\n",
       "WE            10.2445      3.800      2.696      0.007       2.793      17.696\n",
       "==============================================================================\n",
       "Omnibus:                     3271.415   Durbin-Watson:                   1.749\n",
       "Prob(Omnibus):                  0.000   Jarque-Bera (JB):          1298718.279\n",
       "Skew:                           5.465   Prob(JB):                         0.00\n",
       "Kurtosis:                     107.657   Cond. No.                         583.\n",
       "==============================================================================\n",
       "\n",
       "Notes:\n",
       "[1] Standard Errors assume that the covariance matrix of the errors is correctly specified.\n",
       "\"\"\""
      ]
     },
     "execution_count": 21,
     "metadata": {},
     "output_type": "execute_result"
    }
   ],
   "source": [
    "import statsmodels.api as sm\n",
    "x = sm.add_constant(x)\n",
    "results = sm.OLS(y,x).fit()\n",
    "results.summary()"
   ]
  },
  {
   "cell_type": "markdown",
   "metadata": {},
   "source": [
    "### Second Model\n",
    "\n",
    "    - Use Q4 Variable"
   ]
  },
  {
   "cell_type": "code",
   "execution_count": 30,
   "metadata": {},
   "outputs": [
    {
     "data": {
      "text/html": [
       "<div>\n",
       "<style scoped>\n",
       "    .dataframe tbody tr th:only-of-type {\n",
       "        vertical-align: middle;\n",
       "    }\n",
       "\n",
       "    .dataframe tbody tr th {\n",
       "        vertical-align: top;\n",
       "    }\n",
       "\n",
       "    .dataframe thead th {\n",
       "        text-align: right;\n",
       "    }\n",
       "</style>\n",
       "<table border=\"1\" class=\"dataframe\">\n",
       "  <thead>\n",
       "    <tr style=\"text-align: right;\">\n",
       "      <th></th>\n",
       "      <th>REVENUE</th>\n",
       "      <th>QUANTITY</th>\n",
       "      <th>ML</th>\n",
       "      <th>PH</th>\n",
       "      <th>WE</th>\n",
       "      <th>quarterfour</th>\n",
       "    </tr>\n",
       "  </thead>\n",
       "  <tbody>\n",
       "    <tr>\n",
       "      <th>0</th>\n",
       "      <td>379.65</td>\n",
       "      <td>7</td>\n",
       "      <td>0.0</td>\n",
       "      <td>0.0</td>\n",
       "      <td>4.0</td>\n",
       "      <td>0</td>\n",
       "    </tr>\n",
       "    <tr>\n",
       "      <th>1</th>\n",
       "      <td>1429.35</td>\n",
       "      <td>13</td>\n",
       "      <td>0.0</td>\n",
       "      <td>3.0</td>\n",
       "      <td>10.0</td>\n",
       "      <td>0</td>\n",
       "    </tr>\n",
       "    <tr>\n",
       "      <th>2</th>\n",
       "      <td>1314.55</td>\n",
       "      <td>29</td>\n",
       "      <td>0.0</td>\n",
       "      <td>9.0</td>\n",
       "      <td>8.0</td>\n",
       "      <td>0</td>\n",
       "    </tr>\n",
       "    <tr>\n",
       "      <th>3</th>\n",
       "      <td>2570.80</td>\n",
       "      <td>24</td>\n",
       "      <td>0.0</td>\n",
       "      <td>7.0</td>\n",
       "      <td>10.0</td>\n",
       "      <td>0</td>\n",
       "    </tr>\n",
       "    <tr>\n",
       "      <th>4</th>\n",
       "      <td>5019.40</td>\n",
       "      <td>70</td>\n",
       "      <td>0.0</td>\n",
       "      <td>16.0</td>\n",
       "      <td>16.0</td>\n",
       "      <td>0</td>\n",
       "    </tr>\n",
       "  </tbody>\n",
       "</table>\n",
       "</div>"
      ],
      "text/plain": [
       "   REVENUE  QUANTITY   ML    PH    WE  quarterfour\n",
       "0   379.65         7  0.0   0.0   4.0            0\n",
       "1  1429.35        13  0.0   3.0  10.0            0\n",
       "2  1314.55        29  0.0   9.0   8.0            0\n",
       "3  2570.80        24  0.0   7.0  10.0            0\n",
       "4  5019.40        70  0.0  16.0  16.0            0"
      ]
     },
     "execution_count": 30,
     "metadata": {},
     "output_type": "execute_result"
    }
   ],
   "source": [
    "modeldf['quarterfour'] = np.where(modeldf['ORDER_DATE'].dt.month >= 10, 1, 0)\n",
    "secondmodeldf = modeldf.drop(['ORDER_DATE','CUSTNO','NOV','DEC'], axis = 1)\n",
    "secondmodeldf.head()"
   ]
  },
  {
   "cell_type": "code",
   "execution_count": 31,
   "metadata": {},
   "outputs": [],
   "source": [
    "y = secondmodeldf['REVENUE']\n",
    "x = secondmodeldf[['QUANTITY', 'quarterfour', 'PH', 'WE']]"
   ]
  },
  {
   "cell_type": "code",
   "execution_count": 32,
   "metadata": {},
   "outputs": [
    {
     "data": {
      "text/html": [
       "<table class=\"simpletable\">\n",
       "<caption>OLS Regression Results</caption>\n",
       "<tr>\n",
       "  <th>Dep. Variable:</th>         <td>REVENUE</td>     <th>  R-squared:         </th> <td>   0.966</td> \n",
       "</tr>\n",
       "<tr>\n",
       "  <th>Model:</th>                   <td>OLS</td>       <th>  Adj. R-squared:    </th> <td>   0.966</td> \n",
       "</tr>\n",
       "<tr>\n",
       "  <th>Method:</th>             <td>Least Squares</td>  <th>  F-statistic:       </th> <td>1.983e+04</td>\n",
       "</tr>\n",
       "<tr>\n",
       "  <th>Date:</th>             <td>Mon, 26 Jul 2021</td> <th>  Prob (F-statistic):</th>  <td>  0.00</td>  \n",
       "</tr>\n",
       "<tr>\n",
       "  <th>Time:</th>                 <td>17:28:41</td>     <th>  Log-Likelihood:    </th> <td> -24291.</td> \n",
       "</tr>\n",
       "<tr>\n",
       "  <th>No. Observations:</th>      <td>  2815</td>      <th>  AIC:               </th> <td>4.859e+04</td>\n",
       "</tr>\n",
       "<tr>\n",
       "  <th>Df Residuals:</th>          <td>  2810</td>      <th>  BIC:               </th> <td>4.862e+04</td>\n",
       "</tr>\n",
       "<tr>\n",
       "  <th>Df Model:</th>              <td>     4</td>      <th>                     </th>     <td> </td>    \n",
       "</tr>\n",
       "<tr>\n",
       "  <th>Covariance Type:</th>      <td>nonrobust</td>    <th>                     </th>     <td> </td>    \n",
       "</tr>\n",
       "</table>\n",
       "<table class=\"simpletable\">\n",
       "<tr>\n",
       "       <td></td>          <th>coef</th>     <th>std err</th>      <th>t</th>      <th>P>|t|</th>  <th>[0.025</th>    <th>0.975]</th>  \n",
       "</tr>\n",
       "<tr>\n",
       "  <th>const</th>       <td>  598.9421</td> <td>   35.424</td> <td>   16.908</td> <td> 0.000</td> <td>  529.482</td> <td>  668.402</td>\n",
       "</tr>\n",
       "<tr>\n",
       "  <th>QUANTITY</th>    <td>   66.0448</td> <td>    1.873</td> <td>   35.261</td> <td> 0.000</td> <td>   62.372</td> <td>   69.717</td>\n",
       "</tr>\n",
       "<tr>\n",
       "  <th>quarterfour</th> <td>  104.9458</td> <td>   76.587</td> <td>    1.370</td> <td> 0.171</td> <td>  -45.227</td> <td>  255.119</td>\n",
       "</tr>\n",
       "<tr>\n",
       "  <th>PH</th>          <td>   20.3561</td> <td>    4.332</td> <td>    4.699</td> <td> 0.000</td> <td>   11.861</td> <td>   28.851</td>\n",
       "</tr>\n",
       "<tr>\n",
       "  <th>WE</th>          <td>    8.8523</td> <td>    3.783</td> <td>    2.340</td> <td> 0.019</td> <td>    1.435</td> <td>   16.270</td>\n",
       "</tr>\n",
       "</table>\n",
       "<table class=\"simpletable\">\n",
       "<tr>\n",
       "  <th>Omnibus:</th>       <td>3235.298</td> <th>  Durbin-Watson:     </th>  <td>   1.742</td>  \n",
       "</tr>\n",
       "<tr>\n",
       "  <th>Prob(Omnibus):</th>  <td> 0.000</td>  <th>  Jarque-Bera (JB):  </th> <td>1236688.853</td>\n",
       "</tr>\n",
       "<tr>\n",
       "  <th>Skew:</th>           <td> 5.363</td>  <th>  Prob(JB):          </th>  <td>    0.00</td>  \n",
       "</tr>\n",
       "<tr>\n",
       "  <th>Kurtosis:</th>       <td>105.121</td> <th>  Cond. No.          </th>  <td>    413.</td>  \n",
       "</tr>\n",
       "</table><br/><br/>Notes:<br/>[1] Standard Errors assume that the covariance matrix of the errors is correctly specified."
      ],
      "text/plain": [
       "<class 'statsmodels.iolib.summary.Summary'>\n",
       "\"\"\"\n",
       "                            OLS Regression Results                            \n",
       "==============================================================================\n",
       "Dep. Variable:                REVENUE   R-squared:                       0.966\n",
       "Model:                            OLS   Adj. R-squared:                  0.966\n",
       "Method:                 Least Squares   F-statistic:                 1.983e+04\n",
       "Date:                Mon, 26 Jul 2021   Prob (F-statistic):               0.00\n",
       "Time:                        17:28:41   Log-Likelihood:                -24291.\n",
       "No. Observations:                2815   AIC:                         4.859e+04\n",
       "Df Residuals:                    2810   BIC:                         4.862e+04\n",
       "Df Model:                           4                                         \n",
       "Covariance Type:            nonrobust                                         \n",
       "===============================================================================\n",
       "                  coef    std err          t      P>|t|      [0.025      0.975]\n",
       "-------------------------------------------------------------------------------\n",
       "const         598.9421     35.424     16.908      0.000     529.482     668.402\n",
       "QUANTITY       66.0448      1.873     35.261      0.000      62.372      69.717\n",
       "quarterfour   104.9458     76.587      1.370      0.171     -45.227     255.119\n",
       "PH             20.3561      4.332      4.699      0.000      11.861      28.851\n",
       "WE              8.8523      3.783      2.340      0.019       1.435      16.270\n",
       "==============================================================================\n",
       "Omnibus:                     3235.298   Durbin-Watson:                   1.742\n",
       "Prob(Omnibus):                  0.000   Jarque-Bera (JB):          1236688.853\n",
       "Skew:                           5.363   Prob(JB):                         0.00\n",
       "Kurtosis:                     105.121   Cond. No.                         413.\n",
       "==============================================================================\n",
       "\n",
       "Notes:\n",
       "[1] Standard Errors assume that the covariance matrix of the errors is correctly specified.\n",
       "\"\"\""
      ]
     },
     "execution_count": 32,
     "metadata": {},
     "output_type": "execute_result"
    }
   ],
   "source": [
    "import statsmodels.api as sm\n",
    "x = sm.add_constant(x)\n",
    "results = sm.OLS(y,x).fit()\n",
    "results.summary()"
   ]
  },
  {
   "cell_type": "markdown",
   "metadata": {},
   "source": [
    "### Check Channel Customer Count Vs Revenue"
   ]
  },
  {
   "cell_type": "code",
   "execution_count": 38,
   "metadata": {},
   "outputs": [
    {
     "name": "stderr",
     "output_type": "stream",
     "text": [
      "*c* argument looks like a single numeric RGB or RGBA sequence, which should be avoided as value-mapping will have precedence in case its length matches with *x* & *y*.  Please use the *color* keyword-argument or provide a 2-D array with a single row if you intend to specify the same RGB or RGBA value for all points.\n"
     ]
    },
    {
     "data": {
      "text/plain": [
       "<AxesSubplot:xlabel='ML', ylabel='REVENUE'>"
      ]
     },
     "execution_count": 38,
     "metadata": {},
     "output_type": "execute_result"
    },
    {
     "data": {
      "image/png": "[encoded data removed]",
      "text/plain": [
       "<Figure size 432x288 with 1 Axes>"
      ]
     },
     "metadata": {
      "needs_background": "light"
     },
     "output_type": "display_data"
    }
   ],
   "source": [
    "secondmodeldf.plot.scatter(x='ML',\n",
    "                      y='REVENUE',\n",
    "                      colormap='viridis')"
   ]
  },
  {
   "cell_type": "code",
   "execution_count": 39,
   "metadata": {},
   "outputs": [
    {
     "name": "stderr",
     "output_type": "stream",
     "text": [
      "*c* argument looks like a single numeric RGB or RGBA sequence, which should be avoided as value-mapping will have precedence in case its length matches with *x* & *y*.  Please use the *color* keyword-argument or provide a 2-D array with a single row if you intend to specify the same RGB or RGBA value for all points.\n"
     ]
    },
    {
     "data": {
      "text/plain": [
       "<AxesSubplot:xlabel='PH', ylabel='REVENUE'>"
      ]
     },
     "execution_count": 39,
     "metadata": {},
     "output_type": "execute_result"
    },
    {
     "data": {
      "image/png": "[encoded data removed]",
      "text/plain": [
       "<Figure size 432x288 with 1 Axes>"
      ]
     },
     "metadata": {
      "needs_background": "light"
     },
     "output_type": "display_data"
    }
   ],
   "source": [
    "secondmodeldf.plot.scatter(x='PH',\n",
    "                      y='REVENUE',\n",
    "                      colormap='viridis')"
   ]
  },
  {
   "cell_type": "code",
   "execution_count": 40,
   "metadata": {},
   "outputs": [
    {
     "name": "stderr",
     "output_type": "stream",
     "text": [
      "*c* argument looks like a single numeric RGB or RGBA sequence, which should be avoided as value-mapping will have precedence in case its length matches with *x* & *y*.  Please use the *color* keyword-argument or provide a 2-D array with a single row if you intend to specify the same RGB or RGBA value for all points.\n"
     ]
    },
    {
     "data": {
      "text/plain": [
       "<AxesSubplot:xlabel='WE', ylabel='REVENUE'>"
      ]
     },
     "execution_count": 40,
     "metadata": {},
     "output_type": "execute_result"
    },
    {
     "data": {
      "image/png": "[encoded data removed]",
      "text/plain": [
       "<Figure size 432x288 with 1 Axes>"
      ]
     },
     "metadata": {
      "needs_background": "light"
     },
     "output_type": "display_data"
    }
   ],
   "source": [
    "secondmodeldf.plot.scatter(x='WE',\n",
    "                      y='REVENUE',\n",
    "                  colormap='viridis')"
   ]
  }
 ],
 "metadata": {
  "kernelspec": {
   "display_name": "Python 3",
   "language": "python",
   "name": "python3"
  },
  "language_info": {
   "codemirror_mode": {
    "name": "ipython",
    "version": 3
   },
   "file_extension": ".py",
   "mimetype": "text/x-python",
   "name": "python",
   "nbconvert_exporter": "python",
   "pygments_lexer": "ipython3",
   "version": "3.8.5"
  }
 },
 "nbformat": 4,
 "nbformat_minor": 4
}
